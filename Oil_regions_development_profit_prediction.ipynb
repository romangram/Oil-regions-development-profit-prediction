{
 "cells": [
  {
   "cell_type": "markdown",
   "metadata": {},
   "source": [
    "# Imports"
   ]
  },
  {
   "cell_type": "code",
   "execution_count": 2,
   "metadata": {},
   "outputs": [],
   "source": [
    "#imports\n",
    "import pandas as pd\n",
    "import numpy as np\n",
    "from scipy import stats\n",
    "from collections import defaultdict\n",
    "import matplotlib.pyplot as plt\n",
    "from sklearn.preprocessing import StandardScaler\n",
    "from sklearn.model_selection import train_test_split\n",
    "from sklearn.linear_model import LinearRegression\n",
    "from sklearn.metrics import mean_squared_error"
   ]
  },
  {
   "cell_type": "markdown",
   "metadata": {},
   "source": [
    "# Feature Preparation"
   ]
  },
  {
   "cell_type": "code",
   "execution_count": 3,
   "metadata": {},
   "outputs": [
    {
     "name": "stdout",
     "output_type": "stream",
     "text": [
      "<class 'pandas.core.frame.DataFrame'>\n",
      "RangeIndex: 100000 entries, 0 to 99999\n",
      "Data columns (total 5 columns):\n",
      "id         100000 non-null object\n",
      "f0         100000 non-null float64\n",
      "f1         100000 non-null float64\n",
      "f2         100000 non-null float64\n",
      "product    100000 non-null float64\n",
      "dtypes: float64(4), object(1)\n",
      "memory usage: 3.8+ MB\n",
      "None \n",
      "                   f0             f1             f2        product\n",
      "count  100000.000000  100000.000000  100000.000000  100000.000000\n",
      "mean        0.500419       0.250143       2.502647      92.500000\n",
      "std         0.871832       0.504433       3.248248      44.288691\n",
      "min        -1.408605      -0.848218     -12.088328       0.000000\n",
      "25%        -0.072580      -0.200881       0.287748      56.497507\n",
      "50%         0.502360       0.250252       2.515969      91.849972\n",
      "75%         1.073581       0.700646       4.715088     128.564089\n",
      "max         2.362331       1.343769      16.003790     185.364347 \n",
      "\n",
      "\n",
      "<class 'pandas.core.frame.DataFrame'>\n",
      "RangeIndex: 100000 entries, 0 to 99999\n",
      "Data columns (total 5 columns):\n",
      "id         100000 non-null object\n",
      "f0         100000 non-null float64\n",
      "f1         100000 non-null float64\n",
      "f2         100000 non-null float64\n",
      "product    100000 non-null float64\n",
      "dtypes: float64(4), object(1)\n",
      "memory usage: 3.8+ MB\n",
      "None \n",
      "                   f0             f1             f2        product\n",
      "count  100000.000000  100000.000000  100000.000000  100000.000000\n",
      "mean        1.141296      -4.796579       2.494541      68.825000\n",
      "std         8.965932       5.119872       1.703572      45.944423\n",
      "min       -31.609576     -26.358598      -0.018144       0.000000\n",
      "25%        -6.298551      -8.267985       1.000021      26.953261\n",
      "50%         1.153055      -4.813172       2.011479      57.085625\n",
      "75%         8.621015      -1.332816       3.999904     107.813044\n",
      "max        29.421755      18.734063       5.019721     137.945408 \n",
      "\n",
      "\n",
      "<class 'pandas.core.frame.DataFrame'>\n",
      "RangeIndex: 100000 entries, 0 to 99999\n",
      "Data columns (total 5 columns):\n",
      "id         100000 non-null object\n",
      "f0         100000 non-null float64\n",
      "f1         100000 non-null float64\n",
      "f2         100000 non-null float64\n",
      "product    100000 non-null float64\n",
      "dtypes: float64(4), object(1)\n",
      "memory usage: 3.8+ MB\n",
      "None \n",
      "                   f0             f1             f2        product\n",
      "count  100000.000000  100000.000000  100000.000000  100000.000000\n",
      "mean        0.002023      -0.002081       2.495128      95.000000\n",
      "std         1.732045       1.730417       3.473445      44.749921\n",
      "min        -8.760004      -7.084020     -11.970335       0.000000\n",
      "25%        -1.162288      -1.174820       0.130359      59.450441\n",
      "50%         0.009424      -0.009482       2.484236      94.925613\n",
      "75%         1.158535       1.163678       4.858794     130.595027\n",
      "max         7.238262       7.844801      16.739402     190.029838 \n",
      "\n",
      "\n"
     ]
    }
   ],
   "source": [
    "#read file\n",
    "data = {}\n",
    "for i in range(0,3):\n",
    "    data[i] = pd.read_csv('/datasets/geo_data_'+str(i)+'.csv')\n",
    "    print(data[i].info(),'\\n',data[i].describe(),'\\n\\n')"
   ]
  },
  {
   "cell_type": "markdown",
   "metadata": {},
   "source": [
    "## Handling textual features"
   ]
  },
  {
   "cell_type": "code",
   "execution_count": 4,
   "metadata": {},
   "outputs": [
    {
     "name": "stdout",
     "output_type": "stream",
     "text": [
      "99990\n",
      "99996\n",
      "99996\n"
     ]
    }
   ],
   "source": [
    "for i in range(0,3): print(data[i]['id'].nunique())"
   ]
  },
  {
   "cell_type": "code",
   "execution_count": 5,
   "metadata": {},
   "outputs": [
    {
     "data": {
      "text/plain": [
       "Index(['LHZR0', 'bfPNe', '5ltQ6', 'wt4Uk'], dtype='object')"
      ]
     },
     "execution_count": 5,
     "metadata": {},
     "output_type": "execute_result"
    }
   ],
   "source": [
    "id_counts = (data[1]['id'].value_counts())\n",
    "id_counts[id_counts>1].index"
   ]
  },
  {
   "cell_type": "code",
   "execution_count": 6,
   "metadata": {},
   "outputs": [
    {
     "data": {
      "text/html": [
       "<div>\n",
       "<style scoped>\n",
       "    .dataframe tbody tr th:only-of-type {\n",
       "        vertical-align: middle;\n",
       "    }\n",
       "\n",
       "    .dataframe tbody tr th {\n",
       "        vertical-align: top;\n",
       "    }\n",
       "\n",
       "    .dataframe thead th {\n",
       "        text-align: right;\n",
       "    }\n",
       "</style>\n",
       "<table border=\"1\" class=\"dataframe\">\n",
       "  <thead>\n",
       "    <tr style=\"text-align: right;\">\n",
       "      <th></th>\n",
       "      <th>id</th>\n",
       "      <th>f0</th>\n",
       "      <th>f1</th>\n",
       "      <th>f2</th>\n",
       "      <th>product</th>\n",
       "    </tr>\n",
       "  </thead>\n",
       "  <tbody>\n",
       "    <tr>\n",
       "      <td>1305</td>\n",
       "      <td>LHZR0</td>\n",
       "      <td>11.170835</td>\n",
       "      <td>-1.945066</td>\n",
       "      <td>3.002872</td>\n",
       "      <td>80.859783</td>\n",
       "    </tr>\n",
       "    <tr>\n",
       "      <td>2721</td>\n",
       "      <td>bfPNe</td>\n",
       "      <td>-9.494442</td>\n",
       "      <td>-5.463692</td>\n",
       "      <td>4.006042</td>\n",
       "      <td>110.992147</td>\n",
       "    </tr>\n",
       "    <tr>\n",
       "      <td>5849</td>\n",
       "      <td>5ltQ6</td>\n",
       "      <td>-3.435401</td>\n",
       "      <td>-12.296043</td>\n",
       "      <td>1.999796</td>\n",
       "      <td>57.085625</td>\n",
       "    </tr>\n",
       "    <tr>\n",
       "      <td>41906</td>\n",
       "      <td>LHZR0</td>\n",
       "      <td>-8.989672</td>\n",
       "      <td>-4.286607</td>\n",
       "      <td>2.009139</td>\n",
       "      <td>57.085625</td>\n",
       "    </tr>\n",
       "    <tr>\n",
       "      <td>47591</td>\n",
       "      <td>wt4Uk</td>\n",
       "      <td>-9.091098</td>\n",
       "      <td>-8.109279</td>\n",
       "      <td>-0.002314</td>\n",
       "      <td>3.179103</td>\n",
       "    </tr>\n",
       "    <tr>\n",
       "      <td>82178</td>\n",
       "      <td>bfPNe</td>\n",
       "      <td>-6.202799</td>\n",
       "      <td>-4.820045</td>\n",
       "      <td>2.995107</td>\n",
       "      <td>84.038886</td>\n",
       "    </tr>\n",
       "    <tr>\n",
       "      <td>82873</td>\n",
       "      <td>wt4Uk</td>\n",
       "      <td>10.259972</td>\n",
       "      <td>-9.376355</td>\n",
       "      <td>4.994297</td>\n",
       "      <td>134.766305</td>\n",
       "    </tr>\n",
       "    <tr>\n",
       "      <td>84461</td>\n",
       "      <td>5ltQ6</td>\n",
       "      <td>18.213839</td>\n",
       "      <td>2.191999</td>\n",
       "      <td>3.993869</td>\n",
       "      <td>107.813044</td>\n",
       "    </tr>\n",
       "  </tbody>\n",
       "</table>\n",
       "</div>"
      ],
      "text/plain": [
       "          id         f0         f1        f2     product\n",
       "1305   LHZR0  11.170835  -1.945066  3.002872   80.859783\n",
       "2721   bfPNe  -9.494442  -5.463692  4.006042  110.992147\n",
       "5849   5ltQ6  -3.435401 -12.296043  1.999796   57.085625\n",
       "41906  LHZR0  -8.989672  -4.286607  2.009139   57.085625\n",
       "47591  wt4Uk  -9.091098  -8.109279 -0.002314    3.179103\n",
       "82178  bfPNe  -6.202799  -4.820045  2.995107   84.038886\n",
       "82873  wt4Uk  10.259972  -9.376355  4.994297  134.766305\n",
       "84461  5ltQ6  18.213839   2.191999  3.993869  107.813044"
      ]
     },
     "execution_count": 6,
     "metadata": {},
     "output_type": "execute_result"
    }
   ],
   "source": [
    "data[1].loc[data[1]['id'].isin(['bfPNe', 'wt4Uk', 'LHZR0', '5ltQ6']),:]"
   ]
  },
  {
   "cell_type": "markdown",
   "metadata": {},
   "source": [
    "There are only 4-10 wells out of 10000 with 2 sets of coordinates so we can drop this column for training as it has very little meaning as a feature."
   ]
  },
  {
   "cell_type": "code",
   "execution_count": 7,
   "metadata": {},
   "outputs": [],
   "source": [
    "data_prep = {}\n",
    "for i in range(0,3):\n",
    "    data_prep[i] = data[i].drop('id', axis=1)"
   ]
  },
  {
   "cell_type": "markdown",
   "metadata": {},
   "source": [
    "## Splitting Data"
   ]
  },
  {
   "cell_type": "code",
   "execution_count": 8,
   "metadata": {},
   "outputs": [
    {
     "name": "stdout",
     "output_type": "stream",
     "text": [
      "train mean:  92.4734489149376 test mean:  92.57965325518721 \n",
      "\n",
      "train mean:  68.8324013194053 test mean:  68.80279604178406 \n",
      "\n",
      "train mean:  95.00939984664652 test mean:  94.97180046006052 \n",
      "\n"
     ]
    }
   ],
   "source": [
    "#splitting with 25% test\n",
    "sets = defaultdict(lambda: defaultdict(dict))\n",
    "for i in range(0,3):\n",
    "    sets['train']['features'][i], \\\n",
    "    sets['test']['features'][i], \\\n",
    "    sets['train']['target'][i], \\\n",
    "    sets['test']['target'][i] = \\\n",
    "        train_test_split(data_prep[i].drop(['product'] , axis=1), data_prep[i]['product'], \\\n",
    "                         test_size=0.25, random_state=1234)\n",
    "    #checking balance\n",
    "    print('train mean: ', sets['train']['target'][i].mean(), 'test mean: ',sets['test']['target'][i].mean(),'\\n' )"
   ]
  },
  {
   "cell_type": "markdown",
   "metadata": {},
   "source": [
    "## Scaling"
   ]
  },
  {
   "cell_type": "code",
   "execution_count": 9,
   "metadata": {},
   "outputs": [],
   "source": [
    "#scaling numerical columns\n",
    "col_to_scale = ['f0', 'f1', 'f2']\n",
    "scaler = StandardScaler()\n",
    "for i in range(0,3):\n",
    "    scaler.fit(sets['train']['features'][i][col_to_scale])\n",
    "    sets['train']['features'][i][col_to_scale] = scaler.transform(sets['train']['features'][i][col_to_scale])\n",
    "    sets['test']['features'][i][col_to_scale] = scaler.transform(sets['test']['features'][i][col_to_scale])"
   ]
  },
  {
   "cell_type": "markdown",
   "metadata": {},
   "source": [
    "# Training model"
   ]
  },
  {
   "cell_type": "code",
   "execution_count": 10,
   "metadata": {},
   "outputs": [],
   "source": [
    "#training linear regressor\n",
    "model = LinearRegression()"
   ]
  },
  {
   "cell_type": "code",
   "execution_count": 11,
   "metadata": {},
   "outputs": [],
   "source": [
    "#training on training sets and making predictions\n",
    "\n",
    "predicted = {}\n",
    "predicted_train = {}\n",
    "RMSE = defaultdict(dict)\n",
    "for i in range(0,3):\n",
    "    model.fit(sets['train']['features'][i],sets['train']['target'][i])\n",
    "    predicted[i] = model.predict(sets['test']['features'][i])\n",
    "    predicted_train[i]= model.predict(sets['train']['features'][i])\n",
    "    RMSE['train'][i] = (mean_squared_error(sets['train']['target'][i],predicted_train[i] ))**0.5\n",
    "    RMSE['test'][i] = (mean_squared_error(sets['test']['target'][i], predicted[i]))**0.5"
   ]
  },
  {
   "cell_type": "code",
   "execution_count": 12,
   "metadata": {},
   "outputs": [
    {
     "name": "stdout",
     "output_type": "stream",
     "text": [
      "Region:  0  Mean volume predicted:  92.4305 RMSE:  37.5624\n",
      "Region:  1  Mean volume predicted:  68.8025 RMSE:  0.8939\n",
      "Region:  2  Mean volume predicted:  94.9157 RMSE:  40.1032\n"
     ]
    }
   ],
   "source": [
    "#printing results\n",
    "for i in range(0,3):\n",
    "    print('Region: ',i,' Mean volume predicted: ', predicted[i].mean().round(4), 'RMSE: ', RMSE['test'][i].round(4))"
   ]
  },
  {
   "cell_type": "markdown",
   "metadata": {},
   "source": [
    "Checking RMSE for the training set:"
   ]
  },
  {
   "cell_type": "code",
   "execution_count": 13,
   "metadata": {},
   "outputs": [
    {
     "name": "stdout",
     "output_type": "stream",
     "text": [
      "Region:  0 RMSE:  37.73536159035807\n",
      "Region:  1 RMSE:  0.8891907009902921\n",
      "Region:  2 RMSE:  40.04012247800077\n"
     ]
    }
   ],
   "source": [
    "for i in range(0,3):\n",
    "    print('Region: ',i, 'RMSE: ', RMSE['train'][i])"
   ]
  },
  {
   "cell_type": "markdown",
   "metadata": {},
   "source": [
    "## Model results analysis"
   ]
  },
  {
   "cell_type": "code",
   "execution_count": 14,
   "metadata": {},
   "outputs": [
    {
     "data": {
      "image/png": "[encoded data removed]",
      "text/plain": [
       "<Figure size 1440x720 with 3 Axes>"
      ]
     },
     "metadata": {
      "needs_background": "light"
     },
     "output_type": "display_data"
    }
   ],
   "source": [
    "plt.figure(figsize=(20,10))\n",
    "plt.suptitle('Predicted volume vs. True volume Histograms')\n",
    "for i in range(0,3):\n",
    "    plt.subplot(1,3,i+1)\n",
    "    plt.hist(sets['test']['target'][i], bins=100,alpha=0.5, label='True volume')\n",
    "    plt.axvline(sets['test']['target'][i].mean(), color='r', linestyle='dashed', linewidth=1)\n",
    "    plt.hist(predicted[i], bins=100,alpha=0.5, label='Predicted volume')\n",
    "    plt.axvline(predicted[i].mean(), color='g', linestyle='dashed', linewidth=1)\n",
    "    plt.xlabel('Product volume')\n",
    "    plt.ylabel('counts for bins=100')\n",
    "    plt.legend(loc='upper left')\n",
    "    plt.title('Region '+str(i))"
   ]
  },
  {
   "cell_type": "markdown",
   "metadata": {},
   "source": [
    "- The RMSEs for regions 0,2 are (37,40) a little below the dataset STD (45) which is approximately 0.5 mean (92,95), small enough for the predictions to be of use but the model is not very good. It predicted gaussian approximation and missed the higher frequencies and the \"flat head\".\n",
    "- The RMSE for region 1 is very low < 1, since the targets are much more discrete the model predicted better approximations.\n",
    "- For regions 0,2 the models predicted twice the volume of the large majority of wells and much lower for less common targets. \n",
    "- For region 1 the model predicted lower than true targets \n",
    "- The RMSEs are the same for the training set itself."
   ]
  },
  {
   "cell_type": "markdown",
   "metadata": {},
   "source": [
    "# Preparing for profit Calculations"
   ]
  },
  {
   "cell_type": "code",
   "execution_count": 15,
   "metadata": {},
   "outputs": [],
   "source": [
    "# values to be used\n",
    "BUDGET_200_WELLS_DEV= 100*1000000 \n",
    "NUMBER_OF_WELLS = 200\n",
    "REVENUE_PRODUCT_UNIT= 4500\n",
    "RISK_THRESHOLD = 0.25"
   ]
  },
  {
   "cell_type": "markdown",
   "metadata": {},
   "source": [
    "profit from well = revenue from well - (cost + expenses) = revenue from 1 unit * product - development budget for 1 well\n",
    "\n",
    "if profit = 0 (no losses) we need to find:\n",
    "\n",
    "min product = development budget for 1 well / revenue from 1 unit"
   ]
  },
  {
   "cell_type": "code",
   "execution_count": 17,
   "metadata": {},
   "outputs": [
    {
     "data": {
      "text/plain": [
       "111.11111111111111"
      ]
     },
     "execution_count": 17,
     "metadata": {},
     "output_type": "execute_result"
    }
   ],
   "source": [
    "# calculating minimum reserves to have no losses\n",
    "min_product = (BUDGET_200_WELLS_DEV/NUMBER_OF_WELLS)/(REVENUE_PRODUCT_UNIT)\n",
    "min_product"
   ]
  },
  {
   "cell_type": "code",
   "execution_count": 18,
   "metadata": {},
   "outputs": [
    {
     "name": "stdout",
     "output_type": "stream",
     "text": [
      "Region:  0 risk of loss:  63.417 %\n",
      "Region:  1 risk of loss:  83.463 %\n",
      "Region:  2 risk of loss:  61.822 %\n"
     ]
    }
   ],
   "source": [
    "# calculating the min_product percentiles in each region\n",
    "for i in range(0,3):\n",
    "    print('Region: ', str(i), 'risk of loss: ', stats.percentileofscore(data[i]['product'],min_product), '%')"
   ]
  },
  {
   "cell_type": "markdown",
   "metadata": {},
   "source": [
    "In regions 0,2 the min product for no losses is close to the mean value of ~ 90 and is achived in ~ 35% of the wells.\n",
    "\n",
    "In region 1 the min product is much larger than the mean value of 68 and is achieved in ~ 15% of the wells."
   ]
  },
  {
   "cell_type": "markdown",
   "metadata": {},
   "source": [
    "# Calculating risks and profit for developing 200 wells in each region"
   ]
  },
  {
   "cell_type": "code",
   "execution_count": 19,
   "metadata": {},
   "outputs": [],
   "source": [
    "def profit_from_set_of_wells(predictions, targets,  \\\n",
    "                             number_of_wells = NUMBER_OF_WELLS, \\\n",
    "                             budget_200_wells_dev = BUDGET_200_WELLS_DEV, \\\n",
    "                             revenue_product_unit = REVENUE_PRODUCT_UNIT):\n",
    "    #calculates profit from a given number of targets according to predictions\n",
    "    indices_max_predictions = predictions.sort_values(ascending=False).index[:number_of_wells]\n",
    "    profit = revenue_product_unit * targets[indices_max_predictions].sum()-budget_200_wells_dev\n",
    "    return profit"
   ]
  },
  {
   "cell_type": "code",
   "execution_count": 20,
   "metadata": {},
   "outputs": [],
   "source": [
    "# bootstraping with 1000 samples for profit distribution\n",
    "samples=1000\n",
    "n=500\n",
    "state = np.random.RandomState(12345)\n",
    "profit = defaultdict(list)\n",
    "for region in range(0,3):\n",
    "    predictions = pd.Series(predicted[region], index=sets['test']['target'][region].index)\n",
    "    for i in range(0,samples):\n",
    "        target_sample = sets['test']['target'][region].sample(n=n, replace=True, random_state=state)\n",
    "        predictions_sample = predictions[target_sample.index]\n",
    "        profit[region].append(profit_from_set_of_wells(predictions_sample, target_sample))\n",
    "    profit[region] = pd.Series(profit[region])"
   ]
  },
  {
   "cell_type": "code",
   "execution_count": 21,
   "metadata": {},
   "outputs": [
    {
     "name": "stdout",
     "output_type": "stream",
     "text": [
      "Region:  0 \n",
      "Average profit:  5.904361 M\n",
      "95% confidence interval:  0.037137 M  -  12.293066 M \n",
      "Risk of loses:  2.5 %\n",
      "\n",
      "Region:  1 \n",
      "Average profit:  6.2155 M\n",
      "95% confidence interval:  1.394405 M  -  11.843728 M \n",
      "Risk of loses:  0.7 %\n",
      "\n",
      "Region:  2 \n",
      "Average profit:  5.65698 M\n",
      "95% confidence interval:  -0.49444 M  -  11.778789 M \n",
      "Risk of loses:  3.6 %\n",
      "\n"
     ]
    }
   ],
   "source": [
    "#calculating average profit and 95% interval and risk of loses\n",
    "\n",
    "for i in range(0,3):   \n",
    "    print('Region: ', i, '\\nAverage profit: ', profit[i].mean().round()/1000000,'M'\\\n",
    "          '\\n95% confidence interval: ',  profit[i].quantile(0.025).round()/1000000,'M', ' - ', \\\n",
    "          profit[i].quantile(0.975).round()/1000000,'M', \\\n",
    "         '\\nRisk of loses: ', stats.percentileofscore(profit[i],0),'%\\n')"
   ]
  },
  {
   "cell_type": "markdown",
   "metadata": {},
   "source": [
    "The risk threshold is 2.5%, only regions 0,1 satisfies this condition. Region 1 has the highest average profit (and lower risk of 0.7%), thus this is the region that is recomended for development."
   ]
  }
 ],
 "metadata": {
  "kernelspec": {
   "display_name": "Python 3",
   "language": "python",
   "name": "python3"
  },
  "language_info": {
   "codemirror_mode": {
    "name": "ipython",
    "version": 3
   },
   "file_extension": ".py",
   "mimetype": "text/x-python",
   "name": "python",
   "nbconvert_exporter": "python",
   "pygments_lexer": "ipython3",
   "version": "3.7.6"
  }
 },
 "nbformat": 4,
 "nbformat_minor": 2
}
